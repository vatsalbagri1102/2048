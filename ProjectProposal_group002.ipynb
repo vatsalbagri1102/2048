{
  "cells": [
    {
      "cell_type": "markdown",
      "metadata": {
        "id": "view-in-github",
        "colab_type": "text"
      },
      "source": [
        "<a href=\"https://colab.research.google.com/github/vatsalbagri1102/2048/blob/main/ProjectProposal_group002.ipynb\" target=\"_parent\"><img src=\"https://colab.research.google.com/assets/colab-badge.svg\" alt=\"Open In Colab\"/></a>"
      ]
    },
    {
      "cell_type": "markdown",
      "source": [
        "# Dataset and Question Candidate\n",
        "*This is not par tof the proposal, I just put it here so we can post some interesting dataset we found and good ideas/topics for candidate.*\n",
        "\n",
        "\n",
        "**UCSD course GPA**\n",
        "- https://github.com/SheepTester/ucsd-sunset?tab=readme-ov-file\n",
        "\n",
        "**UCSD information about class and professor**\n",
        "- https://seascape.app/\n",
        "\n",
        "**UCSD course enrollment speed/rate**\n",
        "- https://github.com/UCSD-Historical-Enrollment-Data\n",
        "\n",
        "**UCSD CAPE dataset**\n",
        "- https://www.kaggle.com/datasets/sanbornpnguyen/ucsdcapes\n",
        "\n",
        "**Data Science Jobs**\n",
        "- https://www.kaggle.com/datasets/fahadrehman07/data-science-jobs-and-salary-glassdoor\n",
        "**Job Title:** Title of the Job\n",
        "**Salary Estimate:** Estimated salary for the job that the company provides\n",
        "**Job Description:** The description of the job\n",
        "**Rating:** Rating of the company\n",
        "**Company Name:** Name of the Company\n",
        "**Location:** Location of the job\n",
        "**Headquarters:** Headquarters of the company\n",
        "**Size:** Number of employees in the company\n",
        "**Founded:** The year company founded\n",
        "**Type of ownership:** Ownership types like private, public, government, and non-profit organizations\n",
        "**Industry:** Industry type like Aerospace, Energy where the company provides services\n",
        "**Sector:** Which type of services company provide in the industry, like industry (Energy), Sector (Oil, Gas)\n",
        "**Revenue:** Total revenue of the company\n",
        "**Competitors:** Company competitors\n",
        "\n",
        "**Income Dataset**\n",
        "- https://www.kaggle.com/datasets/mastmustu/income\n",
        "\n",
        "**Unemployment**\n",
        "- https://www.kaggle.com/datasets/pantanjali/unemployment-dataset\n",
        "\n",
        "**Average Time Spent By A User On Social Media**\n",
        "- https://www.kaggle.com/datasets/imyjoshua/average-time-spent-by-a-user-on-social-media\n",
        "- possible questions:How does age and income level influence/gender identity/interest the amount of time spent on social media platforms?\n",
        "\n",
        "**Social Media Influencers**\n",
        "- https://www.kaggle.com/datasets/ramjasmaurya/top-1000-social-media-channels\n",
        "\n",
        "\n",
        "**Reports of non-emergency problems submitted by users of Get It Done**\n",
        "- https://data.sandiego.gov/datasets/get-it-done-311/\n",
        "\n",
        "\n"
      ],
      "metadata": {
        "id": "WVO0OEhiDjDb"
      }
    },
    {
      "cell_type": "markdown",
      "metadata": {
        "id": "0gyrv5k-DfBN"
      },
      "source": [
        "# COGS 108 - Project Proposal"
      ]
    },
    {
      "cell_type": "markdown",
      "metadata": {
        "id": "lpuZg-yODfBP"
      },
      "source": [
        "# Names\n",
        "\n",
        "- Vatsal Bagri\n",
        "- Sophia Ramirez\n",
        "- Rui Li\n",
        "- Joyce Zhou\n",
        "- Bernie Wu"
      ]
    },
    {
      "cell_type": "markdown",
      "metadata": {
        "id": "AH08d4mTDfBQ"
      },
      "source": [
        "# Research Question"
      ]
    },
    {
      "cell_type": "markdown",
      "metadata": {
        "id": "FKb0Zb9YDfBQ"
      },
      "source": [
        "-  Include a specific, clear data science question.\n",
        "-  Make sure what you're measuring (variables) to answer the question is clear\n",
        "\n",
        "What is your research question? Include the specific question you're setting out to answer. This question should be specific, answerable with data, and clear. A general question with specific subquestions is permitted. (1-2 sentences)\n",
        "\n"
      ]
    },
    {
      "cell_type": "markdown",
      "source": [
        "**Rui Li**: Is there an association between the UCSD CSE course average GPA, course (professors) rating, and enrollment speed for courses? Based on information like professors' rating and average GPA, how well can we model, predict the course enrollment speed?"
      ],
      "metadata": {
        "id": "2OG3OnYv8xd2"
      }
    },
    {
      "cell_type": "markdown",
      "metadata": {
        "id": "40RtwGpaDfBQ"
      },
      "source": [
        "## Background and Prior Work"
      ]
    },
    {
      "cell_type": "markdown",
      "metadata": {
        "id": "2x5UnsSoDfBR"
      },
      "source": [
        "\n",
        "- Include a general introduction to your topic\n",
        "- Include explanation of what work has been done previously\n",
        "- Include citations or links to previous work\n",
        "\n",
        "This section will present the background and context of your topic and question in a few paragraphs. Include a general introduction to your topic and then describe what information you currently know about the topic after doing your initial research. Include references to other projects who have asked similar questions or approached similar problems. Explain what others have learned in their projects.\n",
        "\n",
        "Find some relevant prior work, and reference those sources, summarizing what each did and what they learned. Even if you think you have a totally novel question, find the most similar prior work that you can and discuss how it relates to your project.\n",
        "\n",
        "References can be research publications, but they need not be. Blogs, GitHub repositories, company websites, etc., are all viable references if they are relevant to your project. It must be clear which information comes from which references. (2-3 paragraphs, including at least 2 references)\n",
        "\n",
        " **Use inline citation through HTML footnotes to specify which references support which statements**\n",
        "\n",
        "For example: After government genocide in the 20th century, real birds were replaced with surveillance drones designed to look just like birds.<a name=\"cite_ref-1\"></a>[<sup>1</sup>](#cite_note-1) Use a minimum of 2 or 3 citations, but we prefer more.<a name=\"cite_ref-2\"></a>[<sup>2</sup>](#cite_note-2) You need enough to fully explain and back up important facts.\n",
        "\n",
        "Note that if you click a footnote number in the paragraph above it will transport you to the proper entry in the footnotes list below.  And if you click the ^ in the footnote entry, it will return you to the place in the main text where the footnote is made.\n",
        "\n",
        "To understand the HTML here, `<a name=\"#...\"> </a>` is a tag that allows you produce a named reference for a given location.  Markdown has the construciton `[text with hyperlink](#named reference)` that will produce a clickable link that transports you the named reference.\n",
        "\n",
        "1. <a name=\"cite_note-1\"></a> [^](#cite_ref-1) Lorenz, T. (9 Dec 2021) Birds Aren’t Real, or Are They? Inside a Gen Z Conspiracy Theory. *The New York Times*. https://www.nytimes.com/2021/12/09/technology/birds-arent-real-gen-z-misinformation.html\n",
        "2. <a name=\"cite_note-2\"></a> [^](#cite_ref-2) Also refs should be important to the background, not some randomly chosen vaguely related stuff. Include a web link if possible in refs as above.\n"
      ]
    },
    {
      "cell_type": "markdown",
      "source": [
        "Our topic revolves around studying the enrollment speed of UCSD's CSE courses (i.e., the rate at which courses fill up), to find its correlation with course information such as historical GPA and professor ratings, and then hope to build a model that can accurately predict enrollment speed. As students at UCSD, many of us have experienced some level of anxiety during the registration process in each quarter as shown by this article where it mentions, \"for many students, it has become a common occurrence to worry about what classes they may or may not get into\" <a name=\"cite_ref-1\"></a>[<sup>1</sup>](#cite_note-1) . It's evident that enrollment speed is a significant consideration for students when prioritizing course registration (clearly, students are more inclined to choose courses that fill up faster), and this is the inspiration for our group's topic.\n",
        "\n",
        "On the other hand, enrollment speed also reflects the needs of courses size extension. At UCSD, course scheduling has been a serious issue, with many professors and students complaining about the lack of seats in university courses <a name=\"cite_ref-1\"></a>[<sup>1</sup>](#cite_note-1) . Therefore, we hope that our topic is not only useful for the students, but also can help university management in making more rational course arrangements.\n",
        "\n",
        "Some organizations have already conducted research and predictions on enrollment speed for purposes similar to ours <a name=\"cite_ref-2\"></a>[<sup>2</sup>](#cite_note-2). They built models based on historical enrollment data from UCSD to predict the speed of different courses fill up. They also pointed out that 44% of university classes are completely filled, with almost half of these classes filling up on the first pass. <a name=\"cite_ref-2\"></a>[<sup>2</sup>](#cite_note-2) However, their work was based on data from the winter quarter of 2020 and did not include courses in the CSE major. We aim to obtain updated conclusions and models by collecting and analyzing more data on CSE courses.\n",
        "\n",
        "\n",
        "1. <a name=\"cite_note-1\"></a> [^](#cite_ref-1) Huie, M. (20 Nov 2023). The scramble for scheduling. UCSD The GUARDIAN. https://ucsdguardian.org/2023/11/20/the-scramble-for-scheduling/\n",
        "2. <a name=\"cite_note-2\"></a> [^](#cite_ref-2) Kan, A., Atienza, K., & Kovach, S. (5 Feb 2020). How quickly do classes fill up? The Stack. https://stack.dailybruin.com/2020/02/05/class-fill-ups/"
      ],
      "metadata": {
        "id": "8Xqu8Ydu-1QB"
      }
    },
    {
      "cell_type": "markdown",
      "metadata": {
        "id": "b00rmownDfBR"
      },
      "source": [
        "# Hypothesis\n"
      ]
    },
    {
      "cell_type": "markdown",
      "metadata": {
        "id": "y2KiZX_nDfBS"
      },
      "source": [
        "\n",
        "- Include your team's hypothesis\n",
        "- Ensure that this hypothesis is clear to readers\n",
        "- Explain why you think this will be the outcome (what was your thinking?)\n",
        "\n",
        "What is your main hypothesis/predictions about what the answer to your question is? Briefly explain your thinking. (2-3 sentences)\n",
        "\n",
        "\n",
        "Professor's and CSE classes with higher average GPAs will cause quicker enrollment of that class. This is due to the fact that we think people want to take classes that will give them a better chance of a high overall grade."
      ]
    },
    {
      "cell_type": "markdown",
      "source": [],
      "metadata": {
        "id": "jlNXCHdMUlsh"
      }
    },
    {
      "cell_type": "markdown",
      "metadata": {
        "id": "9_NdQrSiDfBS"
      },
      "source": [
        "# Data"
      ]
    },
    {
      "cell_type": "markdown",
      "metadata": {
        "id": "zL7xP0t6DfBS"
      },
      "source": [
        "1. Explain what the **ideal** dataset you would want to answer this question. (This should include: What variables? How many observations? Who/what/how would these data be collected? How would these data be stored/organized?)\n",
        "1. Search for potential **real** datasets that could provide you with something useful for this project.  You do not have to find every piece of data you will use, but you do need to have demonstrated some idea that (a) this data is gettable and (b) that this data may be different from what your ideal is."
      ]
    },
    {
      "cell_type": "markdown",
      "source": [
        "1. For ideal dataset, since we are analysing UCSD course information, we expect that we can use dataset provide by UCSD, including attributes like professors rating, and average GPA of the class (which should be included in a CAPES dataset). We will also collect data from public websites such as rate my professor if possible. The variables in the dataset should at least include the UCSD course code/name, Professor's name, course expected and recieved average GPA, and course enrollment speed. For the number of observations we expect, there should be at least 600 oberservations assuming there are 100 courses offered each quarter for winter, fall, and spring for two years.\n",
        "\n",
        "2. Some datasets we found that potential useful:\n",
        "\n",
        "  - *UCSD Historical Enrollment Information*\n",
        "  https://github.com/UCSD-Historical-Enrollment-Data\n",
        "\n",
        "  - *UCSD CAPE dataset*\n",
        "  https://www.kaggle.com/datasets/sanbornpnguyen/ucsdcapes\n",
        "\n",
        "  - *UCSD course GPA*\n",
        "  https://github.com/SheepTester/ucsd-sunset?tab=readme-ov-file\n"
      ],
      "metadata": {
        "id": "RwYHUgtIyRSV"
      }
    },
    {
      "cell_type": "markdown",
      "metadata": {
        "id": "GO8R7G-CDfBS"
      },
      "source": [
        "# Ethics & Privacy"
      ]
    },
    {
      "cell_type": "markdown",
      "metadata": {
        "id": "7YvuF5sSDfBT"
      },
      "source": [
        "- Thoughtful discussion of ethical concerns included\n",
        "- Ethical concerns consider the whole data science process (question asked, data collected, data being used, the bias in data, analysis, post-analysis, etc.)\n",
        "- How your group handled bias/ethical concerns clearly described\n",
        "\n",
        "Acknowledge and address any ethics & privacy related issues of your question(s), proposed dataset(s), and/or analyses. Use the information provided in lecture to guide your group discussion and thinking. If you need further guidance, check out [Deon's Ethics Checklist](http://deon.drivendata.org/#data-science-ethics-checklist). In particular:\n",
        "\n",
        "- Are there any biases/privacy/terms of use issues with the data you propsed?\n",
        "- Are there potential biases in your dataset(s), in terms of who it composes, and how it was collected, that may be problematic in terms of it allowing for equitable analysis? (For example, does your data exclude particular populations, or is it likely to reflect particular human biases in a way that could be a problem?)\n",
        "- How will you set out to detect these specific biases before, during, and after/when communicating your analysis?\n",
        "- Are there any other issues related to your topic area, data, and/or analyses that are potentially problematic in terms of data privacy and equitable impact?\n",
        "- How will you handle issues you identified?"
      ]
    },
    {
      "cell_type": "markdown",
      "source": [
        "- In the process of collecting and using the data, it is foreseeable that we will inevitably obtain information associated with real names, such as the GPA of UCSD students and the ratings of UCSD professors, which poses significant risks of privacy disclosure. To address this issue, we will carefully inspect our data and perform cleaning and anonymization processes, such as replacing real names with numerical codes and only using data that are helpful for our analysis, to ensure that the privacy of real individuals is not compromised.\n",
        "- In the process of collecting the data, we may need to scrape data from websites. However, not all websites necessarily permit data scraping. For this issue, we will carefully review the terms of use of the websites and ensure that we only use data that we are permitted to use.\n",
        "- For bias in the data, since we will be collecting professor ratings, these ratings will primarily reflect students' perceptions of the professors. This is likely to include many biases from students (for example, students who received low GPAs may tend to give professors more negative ratings). These biases are difficult to detect and address. our possible solution is to collect data from as many sources as possible and integrate them to mitigate the impact of biases.\n",
        "- For the analysis process, avoid interveiwing/asking students or professors for information to add to our data set.\n",
        "- For the post-analysis, our analysis (and the models we build) may impact professors and students in real life. For professors, their reputation may be harmed due to potential biases in our analysis. For students, their enrollment may be influenced by our analysis results and models. To address this issue, we will clean our data and anonymize all real information such as names.\n"
      ],
      "metadata": {
        "id": "lDGYO9uLIeLZ"
      }
    },
    {
      "cell_type": "markdown",
      "metadata": {
        "id": "I-MKZC0_DfBT"
      },
      "source": [
        "# Team Expectations"
      ]
    },
    {
      "cell_type": "markdown",
      "metadata": {
        "id": "QBee4TB3DfBT"
      },
      "source": [
        "\n",
        "Read over the [COGS108 Team Policies](https://github.com/COGS108/Projects/blob/master/COGS108_TeamPolicies.md) individually. Then, include your group’s expectations of one another for successful completion of your COGS108 project below. Discuss and agree on what all of your expectations are. Discuss how your team will communicate throughout the quarter and consider how you will communicate respectfully should conflicts arise. By including each member’s name above and by adding their name to the submission, you are indicating that you have read the COGS108 Team Policies, accept your team’s expectations below, and have every intention to fulfill them. These expectations are for your team’s use and benefit — they won’t be graded for their details.\n",
        "\n",
        "* Respond within 24 hours to a question asked\n",
        "* Have open communication\n",
        "* Be responsible for your work\n",
        "* Don't wait until the last minute to start working\n",
        "* Everyone actively and frequently check others work to avoid mistakes\n",
        "* Communicate is any issues arrise which prevent you from getting work done"
      ]
    },
    {
      "cell_type": "markdown",
      "metadata": {
        "id": "r21HC8noDfBU"
      },
      "source": [
        "# Project Timeline Proposal"
      ]
    },
    {
      "cell_type": "markdown",
      "metadata": {
        "id": "VWsCww2qDfBU"
      },
      "source": [
        "Specify your team's specific project timeline. An example timeline has been provided. Changes the dates, times, names, and details to fit your group's plan.\n",
        "\n",
        "If you think you will need any special resources or training outside what we have covered in COGS 108 to solve your problem, then your proposal should state these clearly. For example, if you have selected a problem that involves implementing multiple neural networks, please state this so we can make sure you know what you’re doing and so we can point you to resources you will need to implement your project. Note that you are not required to use outside methods.\n",
        "\n",
        "\n",
        "\n",
        "| Meeting Date  | Meeting Time| Completed Before Meeting  | Discuss at Meeting |\n",
        "|---|---|---|---|\n",
        "| 5/12  | TBD (decided on the day before)  | Search and Share Dataset (check others and be ready to discuss) | Checkpoint #1: Data & Findings|\n",
        "| 5/19  | TBD (decided on the day before) | Check the Dataset, Clean it by Ourselves, Find Correlation Between Attributes, Summarize Main Observations| Findings, Assign Roles|\n",
        "| 5/26  | TBD (decided on the day before) | Continue EDA process, evulate the EDA by ourselves, trying to build model| Checkpoint #2: EDA, EDA and Evalutions|\n",
        "| 6/2  | TBD (decided on the day before) | Finish Project, Read Whole Project in Detail Carefully | Draft Final Submission |\n",
        "| 6/9  | TBD (decided on the day before) | Finish Everything (Final project, video, team eval survey, post-course survey) | Discuss Any Final Thoughts or Additions |"
      ]
    }
  ],
  "metadata": {
    "kernelspec": {
      "display_name": "Python 3 (ipykernel)",
      "language": "python",
      "name": "python3"
    },
    "language_info": {
      "codemirror_mode": {
        "name": "ipython",
        "version": 3
      },
      "file_extension": ".py",
      "mimetype": "text/x-python",
      "name": "python",
      "nbconvert_exporter": "python",
      "pygments_lexer": "ipython3",
      "version": "3.11.3"
    },
    "colab": {
      "provenance": [],
      "include_colab_link": true
    }
  },
  "nbformat": 4,
  "nbformat_minor": 0
}